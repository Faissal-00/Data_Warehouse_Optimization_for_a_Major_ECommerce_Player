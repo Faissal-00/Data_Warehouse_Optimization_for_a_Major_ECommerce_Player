{
 "cells": [
  {
   "cell_type": "markdown",
   "id": "db71b57b",
   "metadata": {},
   "source": [
    "# Step 1: Loading data"
   ]
  },
  {
   "cell_type": "code",
   "execution_count": 8,
   "id": "a7fb1597",
   "metadata": {},
   "outputs": [],
   "source": [
    "import pandas as pd\n",
    "import numpy as np"
   ]
  },
  {
   "cell_type": "code",
   "execution_count": 9,
   "id": "923720ef",
   "metadata": {
    "scrolled": false
   },
   "outputs": [
    {
     "data": {
      "text/html": [
       "<div>\n",
       "<style scoped>\n",
       "    .dataframe tbody tr th:only-of-type {\n",
       "        vertical-align: middle;\n",
       "    }\n",
       "\n",
       "    .dataframe tbody tr th {\n",
       "        vertical-align: top;\n",
       "    }\n",
       "\n",
       "    .dataframe thead th {\n",
       "        text-align: right;\n",
       "    }\n",
       "</style>\n",
       "<table border=\"1\" class=\"dataframe\">\n",
       "  <thead>\n",
       "    <tr style=\"text-align: right;\">\n",
       "      <th></th>\n",
       "      <th>CustomerID</th>\n",
       "      <th>Name</th>\n",
       "      <th>Email</th>\n",
       "      <th>Age</th>\n",
       "      <th>Gender</th>\n",
       "      <th>Location</th>\n",
       "      <th>ProductID</th>\n",
       "      <th>Category</th>\n",
       "      <th>Subcategory</th>\n",
       "      <th>Price</th>\n",
       "      <th>...</th>\n",
       "      <th>StockLevel</th>\n",
       "      <th>RestockThreshold</th>\n",
       "      <th>LastRestockDate</th>\n",
       "      <th>WarehouseID</th>\n",
       "      <th>Location_warehouse</th>\n",
       "      <th>Capacity</th>\n",
       "      <th>SupplierID</th>\n",
       "      <th>Company</th>\n",
       "      <th>Location_Supplier</th>\n",
       "      <th>QualityScore</th>\n",
       "    </tr>\n",
       "  </thead>\n",
       "  <tbody>\n",
       "    <tr>\n",
       "      <th>0</th>\n",
       "      <td>0</td>\n",
       "      <td>Kayla Howell</td>\n",
       "      <td>NaN</td>\n",
       "      <td>112</td>\n",
       "      <td>Male</td>\n",
       "      <td>Lake Benjamin</td>\n",
       "      <td>0</td>\n",
       "      <td>Electronics©</td>\n",
       "      <td>Smart Watches</td>\n",
       "      <td>384.37</td>\n",
       "      <td>...</td>\n",
       "      <td>862</td>\n",
       "      <td>25</td>\n",
       "      <td>2022-03-06</td>\n",
       "      <td>54</td>\n",
       "      <td>Jasonborough</td>\n",
       "      <td>15745</td>\n",
       "      <td>2</td>\n",
       "      <td>Miller-Pearson</td>\n",
       "      <td>Clarkmouth</td>\n",
       "      <td>9.83</td>\n",
       "    </tr>\n",
       "    <tr>\n",
       "      <th>1</th>\n",
       "      <td>1</td>\n",
       "      <td>Wanda Graham</td>\n",
       "      <td>brianfisher@example.com</td>\n",
       "      <td>65</td>\n",
       "      <td>Female</td>\n",
       "      <td>West Joshua</td>\n",
       "      <td>1</td>\n",
       "      <td>Electronics</td>\n",
       "      <td>Cameras</td>\n",
       "      <td>331.40</td>\n",
       "      <td>...</td>\n",
       "      <td>549</td>\n",
       "      <td>254</td>\n",
       "      <td>2020-11-23</td>\n",
       "      <td>6</td>\n",
       "      <td>Dawnport</td>\n",
       "      <td>7291</td>\n",
       "      <td>2</td>\n",
       "      <td>Miller-Pearson</td>\n",
       "      <td>Clarkmouth</td>\n",
       "      <td>9.83</td>\n",
       "    </tr>\n",
       "    <tr>\n",
       "      <th>2</th>\n",
       "      <td>2</td>\n",
       "      <td>Raymond James</td>\n",
       "      <td>brownfred@example.com</td>\n",
       "      <td>21</td>\n",
       "      <td>Male</td>\n",
       "      <td>Sweeneyton</td>\n",
       "      <td>2</td>\n",
       "      <td>Electronics</td>\n",
       "      <td>Mobile Phones</td>\n",
       "      <td>534.75</td>\n",
       "      <td>...</td>\n",
       "      <td>656</td>\n",
       "      <td>236</td>\n",
       "      <td>2022-02-10</td>\n",
       "      <td>236</td>\n",
       "      <td>Hallview</td>\n",
       "      <td>10609</td>\n",
       "      <td>8</td>\n",
       "      <td>Parks-Gallegos</td>\n",
       "      <td>Jenkinsside</td>\n",
       "      <td>6.82</td>\n",
       "    </tr>\n",
       "    <tr>\n",
       "      <th>3</th>\n",
       "      <td>3</td>\n",
       "      <td>Thomas Smith</td>\n",
       "      <td>anthonyleon@example.com</td>\n",
       "      <td>68</td>\n",
       "      <td>Female</td>\n",
       "      <td>Lake Matthew</td>\n",
       "      <td>3</td>\n",
       "      <td>Furniture</td>\n",
       "      <td>Cabinets</td>\n",
       "      <td>259.52</td>\n",
       "      <td>...</td>\n",
       "      <td>621</td>\n",
       "      <td>88</td>\n",
       "      <td>2021-07-04</td>\n",
       "      <td>239</td>\n",
       "      <td>Mckenzieton</td>\n",
       "      <td>16255</td>\n",
       "      <td>5</td>\n",
       "      <td>Morgan LLC</td>\n",
       "      <td>Port Robynmouth</td>\n",
       "      <td>1.23</td>\n",
       "    </tr>\n",
       "    <tr>\n",
       "      <th>4</th>\n",
       "      <td>4</td>\n",
       "      <td>Matthew Lee</td>\n",
       "      <td>david54@example.org</td>\n",
       "      <td>66</td>\n",
       "      <td>Female</td>\n",
       "      <td>West Kristinbury</td>\n",
       "      <td>4</td>\n",
       "      <td>Clothing</td>\n",
       "      <td>T-Shirts</td>\n",
       "      <td>800.64</td>\n",
       "      <td>...</td>\n",
       "      <td>557</td>\n",
       "      <td>385</td>\n",
       "      <td>2022-08-16</td>\n",
       "      <td>289</td>\n",
       "      <td>Port Austin</td>\n",
       "      <td>16559</td>\n",
       "      <td>2</td>\n",
       "      <td>Miller-Pearson</td>\n",
       "      <td>Clarkmouth</td>\n",
       "      <td>9.83</td>\n",
       "    </tr>\n",
       "  </tbody>\n",
       "</table>\n",
       "<p>5 rows × 28 columns</p>\n",
       "</div>"
      ],
      "text/plain": [
       "   CustomerID           Name                    Email  Age  Gender   \n",
       "0           0   Kayla Howell                      NaN  112    Male  \\\n",
       "1           1   Wanda Graham  brianfisher@example.com   65  Female   \n",
       "2           2  Raymond James    brownfred@example.com   21    Male   \n",
       "3           3   Thomas Smith  anthonyleon@example.com   68  Female   \n",
       "4           4    Matthew Lee      david54@example.org   66  Female   \n",
       "\n",
       "           Location  ProductID      Category    Subcategory   Price  ...   \n",
       "0     Lake Benjamin          0  Electronics©  Smart Watches  384.37  ...  \\\n",
       "1       West Joshua          1   Electronics        Cameras  331.40  ...   \n",
       "2        Sweeneyton          2   Electronics  Mobile Phones  534.75  ...   \n",
       "3      Lake Matthew          3     Furniture       Cabinets  259.52  ...   \n",
       "4  West Kristinbury          4      Clothing       T-Shirts  800.64  ...   \n",
       "\n",
       "   StockLevel RestockThreshold  LastRestockDate WarehouseID   \n",
       "0         862               25       2022-03-06          54  \\\n",
       "1         549              254       2020-11-23           6   \n",
       "2         656              236       2022-02-10         236   \n",
       "3         621               88       2021-07-04         239   \n",
       "4         557              385       2022-08-16         289   \n",
       "\n",
       "  Location_warehouse Capacity SupplierID         Company  Location_Supplier   \n",
       "0       Jasonborough    15745          2  Miller-Pearson         Clarkmouth  \\\n",
       "1           Dawnport     7291          2  Miller-Pearson         Clarkmouth   \n",
       "2           Hallview    10609          8  Parks-Gallegos        Jenkinsside   \n",
       "3        Mckenzieton    16255          5      Morgan LLC    Port Robynmouth   \n",
       "4        Port Austin    16559          2  Miller-Pearson         Clarkmouth   \n",
       "\n",
       "   QualityScore  \n",
       "0          9.83  \n",
       "1          9.83  \n",
       "2          6.82  \n",
       "3          1.23  \n",
       "4          9.83  \n",
       "\n",
       "[5 rows x 28 columns]"
      ]
     },
     "execution_count": 9,
     "metadata": {},
     "output_type": "execute_result"
    }
   ],
   "source": [
    "df=pd.read_csv('data-64f364840fc64237552010.csv')\n",
    "df.head()"
   ]
  },
  {
   "cell_type": "code",
   "execution_count": 10,
   "id": "9537d378",
   "metadata": {},
   "outputs": [
    {
     "data": {
      "text/plain": [
       "(9999, 28)"
      ]
     },
     "execution_count": 10,
     "metadata": {},
     "output_type": "execute_result"
    }
   ],
   "source": [
    "df.shape"
   ]
  },
  {
   "cell_type": "code",
   "execution_count": 11,
   "id": "7ba838cf",
   "metadata": {},
   "outputs": [
    {
     "data": {
      "text/plain": [
       "Index(['CustomerID', 'Name', 'Email', 'Age', 'Gender', 'Location', 'ProductID',\n",
       "       'Category', 'Subcategory', 'Price', 'Weight', 'Dimensions', 'OrderID',\n",
       "       'Date_Order', 'TotalAmount', 'ShippingMethod', 'Status', 'InventoryID',\n",
       "       'StockLevel', 'RestockThreshold', 'LastRestockDate', 'WarehouseID',\n",
       "       'Location_warehouse', 'Capacity', 'SupplierID', 'Company',\n",
       "       'Location_Supplier', 'QualityScore'],\n",
       "      dtype='object')"
      ]
     },
     "execution_count": 11,
     "metadata": {},
     "output_type": "execute_result"
    }
   ],
   "source": [
    "df.columns"
   ]
  },
  {
   "cell_type": "code",
   "execution_count": 12,
   "id": "4aa2f8e2",
   "metadata": {},
   "outputs": [],
   "source": [
    "# Rename the columns\n",
    "df.rename(columns={'Date_Order': 'DateOrder'}, inplace=True)\n",
    "df.rename(columns={'Location_warehouse': 'LocationWarehouse'}, inplace=True)\n",
    "df.rename(columns={'Location_Supplier': 'LocationSupplier'}, inplace=True)"
   ]
  },
  {
   "cell_type": "code",
   "execution_count": 13,
   "id": "1e60e755",
   "metadata": {},
   "outputs": [
    {
     "data": {
      "text/plain": [
       "Index(['CustomerID', 'Name', 'Email', 'Age', 'Gender', 'Location', 'ProductID',\n",
       "       'Category', 'Subcategory', 'Price', 'Weight', 'Dimensions', 'OrderID',\n",
       "       'DateOrder', 'TotalAmount', 'ShippingMethod', 'Status', 'InventoryID',\n",
       "       'StockLevel', 'RestockThreshold', 'LastRestockDate', 'WarehouseID',\n",
       "       'LocationWarehouse', 'Capacity', 'SupplierID', 'Company',\n",
       "       'LocationSupplier', 'QualityScore'],\n",
       "      dtype='object')"
      ]
     },
     "execution_count": 13,
     "metadata": {},
     "output_type": "execute_result"
    }
   ],
   "source": [
    "df.columns"
   ]
  },
  {
   "cell_type": "markdown",
   "id": "f6322555",
   "metadata": {},
   "source": [
    "# Step 2: Shuffle and Split the Data"
   ]
  },
  {
   "cell_type": "code",
   "execution_count": 14,
   "id": "f7a849ce",
   "metadata": {},
   "outputs": [],
   "source": [
    "# Shuffle the data\n",
    "df_shuffled = df.sample(frac=1, random_state=42)\n",
    "\n",
    "# Calculate the number of rows for each destination\n",
    "total_rows = df_shuffled.shape[0]\n",
    "json_rows = int(0.5 * total_rows)\n",
    "csv_rows = total_rows - json_rows\n",
    "\n",
    "# Split the data into JSON and CSV parts\n",
    "df_json = df_shuffled.iloc[:json_rows]\n",
    "df_csv = df_shuffled.iloc[json_rows:]"
   ]
  },
  {
   "cell_type": "markdown",
   "id": "d1e669b8",
   "metadata": {},
   "source": [
    "# Save the JSON and CSV Data"
   ]
  },
  {
   "cell_type": "code",
   "execution_count": 15,
   "id": "014ea52e",
   "metadata": {},
   "outputs": [],
   "source": [
    "# Save the splits to their respective destinations (JSON, database, and CSV)\n",
    "df_json.to_json('data.json', orient='records')\n",
    "df_csv.to_csv('data.csv', index=False)"
   ]
  },
  {
   "cell_type": "code",
   "execution_count": null,
   "id": "89e38e9f",
   "metadata": {},
   "outputs": [],
   "source": []
  }
 ],
 "metadata": {
  "kernelspec": {
   "display_name": "Python 3 (ipykernel)",
   "language": "python",
   "name": "python3"
  },
  "language_info": {
   "codemirror_mode": {
    "name": "ipython",
    "version": 3
   },
   "file_extension": ".py",
   "mimetype": "text/x-python",
   "name": "python",
   "nbconvert_exporter": "python",
   "pygments_lexer": "ipython3",
   "version": "3.11.3"
  },
  "vp": {
   "vp_config_version": "1.0.0",
   "vp_menu_width": 273,
   "vp_note_display": false,
   "vp_note_width": 0,
   "vp_position": {
    "width": 278
   },
   "vp_section_display": false,
   "vp_signature": "VisualPython"
  }
 },
 "nbformat": 4,
 "nbformat_minor": 5
}
